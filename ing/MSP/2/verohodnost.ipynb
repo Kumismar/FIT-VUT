{
 "cells": [
  {
   "cell_type": "code",
   "execution_count": 1,
   "metadata": {},
   "outputs": [],
   "source": [
    "import scipy.optimize as opt\n",
    "import numpy as np\n",
    "import pandas as pd\n",
    "import scipy.stats as stats"
   ]
  },
  {
   "cell_type": "code",
   "execution_count": 2,
   "metadata": {},
   "outputs": [],
   "source": [
    "df_likelihood = pd.read_excel(\n",
    "    \"data/Data_2024.xlsx\", sheet_name=\"Data_věrohodnost\")\n",
    "\n",
    "df_likelihood = df_likelihood.rename(\n",
    "    columns={\"doba práce v oboru [roky]\": \"doba\"})\n",
    "\n",
    "data_censored = df_likelihood.loc[df_likelihood[\"censored\"] == 1, \"doba\"]\n",
    "data_uncensored = df_likelihood.loc[df_likelihood[\"censored\"] == 0, \"doba\"]"
   ]
  },
  {
   "cell_type": "code",
   "execution_count": 3,
   "metadata": {},
   "outputs": [],
   "source": [
    "def neg_log_likelihood(params, data_unc, data_c):\n",
    "    k, lambd = params\n",
    "    if k <= 0 or lambd <= 0:\n",
    "        return np.inf\n",
    "\n",
    "    # cenzorovana data\n",
    "    term1 = np.sum(np.power(data_c / lambd, k))\n",
    "\n",
    "    # necenzorovana data\n",
    "    n = data_unc.size\n",
    "    term2 = n * np.log(k) - n * k * np.log(lambd) + (k - 1) * \\\n",
    "        np.sum(np.log(data_unc)) - np.sum(np.power(data_unc / lambd, k))\n",
    "\n",
    "    llh = -term1 + term2\n",
    "    return -llh\n",
    "\n",
    "\n",
    "result = opt.minimize(neg_log_likelihood, x0=[1.0, 1.0], args=(\n",
    "    data_uncensored, data_censored), bounds=[(0, None), (0, None)])\n",
    "\n",
    "k_mle = result.x[0]\n",
    "lambda_mle = result.x[1]"
   ]
  },
  {
   "cell_type": "code",
   "execution_count": null,
   "metadata": {},
   "outputs": [
    {
     "name": "stdout",
     "output_type": "stream",
     "text": [
      "l0 = -751.1964661007985\n",
      "l1 = -450.1339063894518\n",
      "lr = 602.1251194226934, kriticky obor = (0, 3.841458820694124)\n",
      "H0 zamítnuta\n"
     ]
    }
   ],
   "source": [
    "# l0(1, lambda_mle)\n",
    "\n",
    "n = data_uncensored.size\n",
    "l0 = -np.sum(data_censored / lambda_mle) - n * \\\n",
    "    np.log(lambda_mle) - np.sum(data_uncensored / lambda_mle)\n",
    "\n",
    "print(f\"l0 = {l0}\")\n",
    "\n",
    "# l0(k_mle, lambda_mle)\n",
    "\n",
    "l1 = -np.sum(np.power(data_censored / lambda_mle, k_mle)) + n * np.log(k_mle) - n * k_mle * np.log(lambda_mle) + \\\n",
    "    (k_mle - 1) * np.sum(np.log(data_uncensored)) - \\\n",
    "    np.sum(np.power(data_uncensored / lambda_mle, k_mle))\n",
    "\n",
    "print(f\"l1 = {l1}\")\n",
    "\n",
    "lr = -2 * (l0 - l1)\n",
    "\n",
    "critical_value = stats.chi2.ppf(0.95, df=1)\n",
    "print(f\"lr = {lr}, kriticky obor = (0, {critical_value})\")\n",
    "\n",
    "if lr > critical_value:\n",
    "    print(\"H0 zamítnuta\")\n",
    "else:\n",
    "    print(\"H0 nezamítnuta\")"
   ]
  },
  {
   "cell_type": "code",
   "execution_count": null,
   "metadata": {},
   "outputs": [
    {
     "name": "stdout",
     "output_type": "stream",
     "text": [
      "Střední hodnota: 6.903243444764023\n",
      "0.1 kvantil: 5.159770582413018\n"
     ]
    }
   ],
   "source": [
    "mean = stats.weibull_min.mean(c=k_mle, scale=lambda_mle)\n",
    "q_0_1 = stats.weibull_min.ppf(0.1, c=k_mle, scale=lambda_mle)\n",
    "\n",
    "print(f\"Střední hodnota: {mean}\")\n",
    "print(f\"0.1 kvantil: {q_0_1}\")"
   ]
  }
 ],
 "metadata": {
  "kernelspec": {
   "display_name": "Python 3",
   "language": "python",
   "name": "python3"
  },
  "language_info": {
   "codemirror_mode": {
    "name": "ipython",
    "version": 3
   },
   "file_extension": ".py",
   "mimetype": "text/x-python",
   "name": "python",
   "nbconvert_exporter": "python",
   "pygments_lexer": "ipython3",
   "version": "3.13.0"
  }
 },
 "nbformat": 4,
 "nbformat_minor": 2
}
